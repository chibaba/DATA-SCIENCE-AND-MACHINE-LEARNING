{
  "nbformat": 4,
  "nbformat_minor": 0,
  "metadata": {
    "colab": {
      "name": "Computing the MAE of a Model.ipynb",
      "provenance": [],
      "authorship_tag": "ABX9TyOeenwgdJ1tebwZCkhCKqgC",
      "include_colab_link": true
    },
    "kernelspec": {
      "name": "python3",
      "display_name": "Python 3"
    }
  },
  "cells": [
    {
      "cell_type": "markdown",
      "metadata": {
        "id": "view-in-github",
        "colab_type": "text"
      },
      "source": [
        "<a href=\"https://colab.research.google.com/github/chibaba/DATA-SCIENCE-AND-MACHINE-LEARNING/blob/develop/Computing_the_MAE_of_a_Model.ipynb\" target=\"_parent\"><img src=\"https://colab.research.google.com/assets/colab-badge.svg\" alt=\"Open In Colab\"/></a>"
      ]
    },
    {
      "cell_type": "code",
      "metadata": {
        "id": "SNQ23GIdPT5C",
        "colab_type": "code",
        "colab": {}
      },
      "source": [
        "import pandas as pd\n",
        "from sklearn.model_selection import train_test_split\n",
        "from sklearn.linear_model import LinearRegression\n",
        "from sklearn.metrics import mean_absolute_error"
      ],
      "execution_count": 1,
      "outputs": []
    },
    {
      "cell_type": "code",
      "metadata": {
        "id": "RLwx8k9APcjy",
        "colab_type": "code",
        "colab": {}
      },
      "source": [
        "# column headers\n",
        "_headers = ['CIC0', 'SM1', 'GATS1i', 'NdsCH', 'Ndssc', \\\n",
        "            'MLOGP', 'response']\n",
        "# read in data\n",
        "df = pd.read_csv('https://raw.githubusercontent.com/'\\\n",
        "                 'PacktWorkshops/The-Data-Science-Workshop/'\\\n",
        "                 'master/Chapter06/Dataset/'\\\n",
        "                 'qsar_fish_toxicity.csv', \\\n",
        "                 names=_headers, sep=';')"
      ],
      "execution_count": 2,
      "outputs": []
    },
    {
      "cell_type": "code",
      "metadata": {
        "id": "yYtLPUQmPil0",
        "colab_type": "code",
        "colab": {}
      },
      "source": [
        "# Let's split our data\n",
        "features = df.drop('response', axis=1).values\n",
        "labels = df[['response']].values\n",
        "X_train, X_eval, y_train, y_eval = train_test_split\\\n",
        "                                   (features, labels, \\\n",
        "                                    test_size=0.2, \\\n",
        "                                    random_state=0)\n",
        "X_val, X_test, y_val, y_test = train_test_split(X_eval, y_eval,\\\n",
        "                                                random_state=0)"
      ],
      "execution_count": 3,
      "outputs": []
    },
    {
      "cell_type": "code",
      "metadata": {
        "id": "LOa1e-hUPxch",
        "colab_type": "code",
        "colab": {
          "base_uri": "https://localhost:8080/",
          "height": 34
        },
        "outputId": "3c3eeb95-5a2a-47ae-9f9f-87718de0f36c"
      },
      "source": [
        "# create a simple Linear Regression model\n",
        "model = LinearRegression()\n",
        "# train the model\n",
        "model.fit(X_train, y_train)"
      ],
      "execution_count": 4,
      "outputs": [
        {
          "output_type": "execute_result",
          "data": {
            "text/plain": [
              "LinearRegression(copy_X=True, fit_intercept=True, n_jobs=None, normalize=False)"
            ]
          },
          "metadata": {
            "tags": []
          },
          "execution_count": 4
        }
      ]
    },
    {
      "cell_type": "code",
      "metadata": {
        "id": "iErT04F-Q5oE",
        "colab_type": "code",
        "colab": {}
      },
      "source": [
        "# let's use our model to predict on our validation dataset\n",
        "y_pred = model.predict(X_val)"
      ],
      "execution_count": 5,
      "outputs": []
    },
    {
      "cell_type": "code",
      "metadata": {
        "id": "gWUEsniuRHKZ",
        "colab_type": "code",
        "colab": {
          "base_uri": "https://localhost:8080/",
          "height": 34
        },
        "outputId": "acd5b989-9945-4578-96a7-98d466690b45"
      },
      "source": [
        "# Let's compute our MEAN ABSOLUTE ERROR\n",
        "mae = mean_absolute_error(y_val, y_pred)\n",
        "print('MAE: {}'.format(mae))"
      ],
      "execution_count": 6,
      "outputs": [
        {
          "output_type": "stream",
          "text": [
            "MAE: 0.7243440846447939\n"
          ],
          "name": "stdout"
        }
      ]
    },
    {
      "cell_type": "code",
      "metadata": {
        "id": "I1qnQ2zJROE2",
        "colab_type": "code",
        "colab": {
          "base_uri": "https://localhost:8080/",
          "height": 34
        },
        "outputId": "0d993638-7370-442a-9f38-169543bbb1c7"
      },
      "source": [
        "# Let's get the R2 score\n",
        "r2 = model.score(X_val, y_val)\n",
        "print('R^2 score: {}'.format(r2))"
      ],
      "execution_count": 7,
      "outputs": [
        {
          "output_type": "stream",
          "text": [
            "R^2 score: 0.5623861754188693\n"
          ],
          "name": "stdout"
        }
      ]
    }
  ]
}