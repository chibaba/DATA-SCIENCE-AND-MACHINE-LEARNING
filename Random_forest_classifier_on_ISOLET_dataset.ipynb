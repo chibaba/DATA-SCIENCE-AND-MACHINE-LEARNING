{
  "nbformat": 4,
  "nbformat_minor": 0,
  "metadata": {
    "colab": {
      "name": "Random forest classifier on ISOLET dataset.ipynb",
      "provenance": [],
      "authorship_tag": "ABX9TyOQV3052SJQpKWkW1yD/WIh",
      "include_colab_link": true
    },
    "kernelspec": {
      "name": "python3",
      "display_name": "Python 3"
    }
  },
  "cells": [
    {
      "cell_type": "markdown",
      "metadata": {
        "id": "view-in-github",
        "colab_type": "text"
      },
      "source": [
        "<a href=\"https://colab.research.google.com/github/chibaba/DATA-SCIENCE-AND-MACHINE-LEARNING/blob/master/Random_forest_classifier_on_ISOLET_dataset.ipynb\" target=\"_parent\"><img src=\"https://colab.research.google.com/assets/colab-badge.svg\" alt=\"Open In Colab\"/></a>"
      ]
    },
    {
      "cell_type": "code",
      "metadata": {
        "id": "oBncamnpIHmi",
        "colab_type": "code",
        "colab": {}
      },
      "source": [
        "import pandas as pd\n",
        "from sklearn.model_selection import train_test_split\n",
        "from sklearn.ensemble import RandomForestClassifier\n",
        "from sklearn.metrics import accuracy_score"
      ],
      "execution_count": 8,
      "outputs": []
    },
    {
      "cell_type": "code",
      "metadata": {
        "id": "2eI1NBvwxH7i",
        "colab_type": "code",
        "colab": {}
      },
      "source": [
        "file_url = 'https://raw.githubusercontent.com'\\\n",
        "           '/PacktWorkshops/The-Data-Science-Workshop'\\\n",
        "           '/master/Chapter04/Dataset/phpB0xrNj.csv'"
      ],
      "execution_count": 9,
      "outputs": []
    },
    {
      "cell_type": "code",
      "metadata": {
        "id": "e2Q8hyP7xOzB",
        "colab_type": "code",
        "colab": {}
      },
      "source": [
        "df = pd.read_csv(file_url)\n"
      ],
      "execution_count": 10,
      "outputs": []
    },
    {
      "cell_type": "code",
      "metadata": {
        "id": "-Ds4JTUfxUfW",
        "colab_type": "code",
        "colab": {
          "base_uri": "https://localhost:8080/",
          "height": 253
        },
        "outputId": "bf6e3c97-a1f6-44d1-ff6b-843ab18683e5"
      },
      "source": [
        "df.head()\n"
      ],
      "execution_count": 11,
      "outputs": [
        {
          "output_type": "execute_result",
          "data": {
            "text/html": [
              "<div>\n",
              "<style scoped>\n",
              "    .dataframe tbody tr th:only-of-type {\n",
              "        vertical-align: middle;\n",
              "    }\n",
              "\n",
              "    .dataframe tbody tr th {\n",
              "        vertical-align: top;\n",
              "    }\n",
              "\n",
              "    .dataframe thead th {\n",
              "        text-align: right;\n",
              "    }\n",
              "</style>\n",
              "<table border=\"1\" class=\"dataframe\">\n",
              "  <thead>\n",
              "    <tr style=\"text-align: right;\">\n",
              "      <th></th>\n",
              "      <th>f1</th>\n",
              "      <th>f2</th>\n",
              "      <th>f3</th>\n",
              "      <th>f4</th>\n",
              "      <th>f5</th>\n",
              "      <th>f6</th>\n",
              "      <th>f7</th>\n",
              "      <th>f8</th>\n",
              "      <th>f9</th>\n",
              "      <th>f10</th>\n",
              "      <th>f11</th>\n",
              "      <th>f12</th>\n",
              "      <th>f13</th>\n",
              "      <th>f14</th>\n",
              "      <th>f15</th>\n",
              "      <th>f16</th>\n",
              "      <th>f17</th>\n",
              "      <th>f18</th>\n",
              "      <th>f19</th>\n",
              "      <th>f20</th>\n",
              "      <th>f21</th>\n",
              "      <th>f22</th>\n",
              "      <th>f23</th>\n",
              "      <th>f24</th>\n",
              "      <th>f25</th>\n",
              "      <th>f26</th>\n",
              "      <th>f27</th>\n",
              "      <th>f28</th>\n",
              "      <th>f29</th>\n",
              "      <th>f30</th>\n",
              "      <th>f31</th>\n",
              "      <th>f32</th>\n",
              "      <th>f33</th>\n",
              "      <th>f34</th>\n",
              "      <th>f35</th>\n",
              "      <th>f36</th>\n",
              "      <th>f37</th>\n",
              "      <th>f38</th>\n",
              "      <th>f39</th>\n",
              "      <th>f40</th>\n",
              "      <th>...</th>\n",
              "      <th>f579</th>\n",
              "      <th>f580</th>\n",
              "      <th>f581</th>\n",
              "      <th>f582</th>\n",
              "      <th>f583</th>\n",
              "      <th>f584</th>\n",
              "      <th>f585</th>\n",
              "      <th>f586</th>\n",
              "      <th>f587</th>\n",
              "      <th>f588</th>\n",
              "      <th>f589</th>\n",
              "      <th>f590</th>\n",
              "      <th>f591</th>\n",
              "      <th>f592</th>\n",
              "      <th>f593</th>\n",
              "      <th>f594</th>\n",
              "      <th>f595</th>\n",
              "      <th>f596</th>\n",
              "      <th>f597</th>\n",
              "      <th>f598</th>\n",
              "      <th>f599</th>\n",
              "      <th>f600</th>\n",
              "      <th>f601</th>\n",
              "      <th>f602</th>\n",
              "      <th>f603</th>\n",
              "      <th>f604</th>\n",
              "      <th>f605</th>\n",
              "      <th>f606</th>\n",
              "      <th>f607</th>\n",
              "      <th>f608</th>\n",
              "      <th>f609</th>\n",
              "      <th>f610</th>\n",
              "      <th>f611</th>\n",
              "      <th>f612</th>\n",
              "      <th>f613</th>\n",
              "      <th>f614</th>\n",
              "      <th>f615</th>\n",
              "      <th>f616</th>\n",
              "      <th>f617</th>\n",
              "      <th>class</th>\n",
              "    </tr>\n",
              "  </thead>\n",
              "  <tbody>\n",
              "    <tr>\n",
              "      <th>0</th>\n",
              "      <td>-0.4394</td>\n",
              "      <td>-0.0930</td>\n",
              "      <td>0.1718</td>\n",
              "      <td>0.4620</td>\n",
              "      <td>0.6226</td>\n",
              "      <td>0.4704</td>\n",
              "      <td>0.3578</td>\n",
              "      <td>0.0478</td>\n",
              "      <td>-0.1184</td>\n",
              "      <td>-0.2310</td>\n",
              "      <td>-0.2958</td>\n",
              "      <td>-0.2704</td>\n",
              "      <td>-0.2620</td>\n",
              "      <td>-0.2170</td>\n",
              "      <td>-0.0874</td>\n",
              "      <td>-0.0564</td>\n",
              "      <td>0.0254</td>\n",
              "      <td>0.0958</td>\n",
              "      <td>0.4226</td>\n",
              "      <td>0.6648</td>\n",
              "      <td>0.9184</td>\n",
              "      <td>0.9718</td>\n",
              "      <td>0.9324</td>\n",
              "      <td>0.7070</td>\n",
              "      <td>0.6986</td>\n",
              "      <td>0.7550</td>\n",
              "      <td>0.8816</td>\n",
              "      <td>1.0000</td>\n",
              "      <td>0.9380</td>\n",
              "      <td>0.8450</td>\n",
              "      <td>0.7268</td>\n",
              "      <td>0.5578</td>\n",
              "      <td>-0.4330</td>\n",
              "      <td>-0.1982</td>\n",
              "      <td>0.1270</td>\n",
              "      <td>0.3666</td>\n",
              "      <td>0.4496</td>\n",
              "      <td>0.4258</td>\n",
              "      <td>0.2646</td>\n",
              "      <td>-0.0368</td>\n",
              "      <td>...</td>\n",
              "      <td>1</td>\n",
              "      <td>-1</td>\n",
              "      <td>-1.0</td>\n",
              "      <td>-1.0</td>\n",
              "      <td>-1.0</td>\n",
              "      <td>0.1334</td>\n",
              "      <td>-1</td>\n",
              "      <td>-0.0770</td>\n",
              "      <td>0.0512</td>\n",
              "      <td>0.2564</td>\n",
              "      <td>0.5642</td>\n",
              "      <td>0.4872</td>\n",
              "      <td>0.0770</td>\n",
              "      <td>0.4358</td>\n",
              "      <td>0.7436</td>\n",
              "      <td>0.5128</td>\n",
              "      <td>0.6666</td>\n",
              "      <td>0.6410</td>\n",
              "      <td>0.6154</td>\n",
              "      <td>1.0000</td>\n",
              "      <td>0.8206</td>\n",
              "      <td>0.6410</td>\n",
              "      <td>0.3590</td>\n",
              "      <td>0.6924</td>\n",
              "      <td>0.4358</td>\n",
              "      <td>0.1538</td>\n",
              "      <td>0.4616</td>\n",
              "      <td>0.6154</td>\n",
              "      <td>0.3334</td>\n",
              "      <td>0.3334</td>\n",
              "      <td>0.4102</td>\n",
              "      <td>0.2052</td>\n",
              "      <td>0.3846</td>\n",
              "      <td>0.3590</td>\n",
              "      <td>0.5898</td>\n",
              "      <td>0.3334</td>\n",
              "      <td>0.6410</td>\n",
              "      <td>0.5898</td>\n",
              "      <td>-0.4872</td>\n",
              "      <td>'1'</td>\n",
              "    </tr>\n",
              "    <tr>\n",
              "      <th>1</th>\n",
              "      <td>-0.4348</td>\n",
              "      <td>-0.1198</td>\n",
              "      <td>0.2474</td>\n",
              "      <td>0.4036</td>\n",
              "      <td>0.5026</td>\n",
              "      <td>0.6328</td>\n",
              "      <td>0.4948</td>\n",
              "      <td>0.0338</td>\n",
              "      <td>-0.0520</td>\n",
              "      <td>-0.1302</td>\n",
              "      <td>-0.0964</td>\n",
              "      <td>-0.2084</td>\n",
              "      <td>-0.0494</td>\n",
              "      <td>-0.0494</td>\n",
              "      <td>-0.2942</td>\n",
              "      <td>0.0704</td>\n",
              "      <td>0.0546</td>\n",
              "      <td>0.1302</td>\n",
              "      <td>0.5652</td>\n",
              "      <td>0.6848</td>\n",
              "      <td>0.7760</td>\n",
              "      <td>0.9558</td>\n",
              "      <td>0.8542</td>\n",
              "      <td>0.7474</td>\n",
              "      <td>0.6094</td>\n",
              "      <td>0.7708</td>\n",
              "      <td>0.8282</td>\n",
              "      <td>1.0000</td>\n",
              "      <td>0.9974</td>\n",
              "      <td>0.9480</td>\n",
              "      <td>0.7422</td>\n",
              "      <td>0.5678</td>\n",
              "      <td>-0.2196</td>\n",
              "      <td>0.1090</td>\n",
              "      <td>0.5892</td>\n",
              "      <td>0.8768</td>\n",
              "      <td>1.0000</td>\n",
              "      <td>0.9936</td>\n",
              "      <td>0.7852</td>\n",
              "      <td>0.3712</td>\n",
              "      <td>...</td>\n",
              "      <td>-1</td>\n",
              "      <td>-1</td>\n",
              "      <td>-1.0</td>\n",
              "      <td>-1.0</td>\n",
              "      <td>-1.0</td>\n",
              "      <td>-1.0000</td>\n",
              "      <td>-1</td>\n",
              "      <td>0.0228</td>\n",
              "      <td>-0.0910</td>\n",
              "      <td>0.2728</td>\n",
              "      <td>0.8636</td>\n",
              "      <td>0.7500</td>\n",
              "      <td>0.4318</td>\n",
              "      <td>0.7272</td>\n",
              "      <td>0.6590</td>\n",
              "      <td>0.4090</td>\n",
              "      <td>0.7728</td>\n",
              "      <td>1.0000</td>\n",
              "      <td>0.7272</td>\n",
              "      <td>0.4772</td>\n",
              "      <td>0.4772</td>\n",
              "      <td>0.4772</td>\n",
              "      <td>0.6590</td>\n",
              "      <td>0.1818</td>\n",
              "      <td>0.4318</td>\n",
              "      <td>0.3864</td>\n",
              "      <td>0.8410</td>\n",
              "      <td>0.8864</td>\n",
              "      <td>0.2500</td>\n",
              "      <td>0.2272</td>\n",
              "      <td>0.0000</td>\n",
              "      <td>0.2954</td>\n",
              "      <td>0.2046</td>\n",
              "      <td>0.4772</td>\n",
              "      <td>0.0454</td>\n",
              "      <td>0.2046</td>\n",
              "      <td>0.4318</td>\n",
              "      <td>0.4546</td>\n",
              "      <td>-0.0910</td>\n",
              "      <td>'1'</td>\n",
              "    </tr>\n",
              "    <tr>\n",
              "      <th>2</th>\n",
              "      <td>-0.2330</td>\n",
              "      <td>0.2124</td>\n",
              "      <td>0.5014</td>\n",
              "      <td>0.5222</td>\n",
              "      <td>-0.3422</td>\n",
              "      <td>-0.5840</td>\n",
              "      <td>-0.7168</td>\n",
              "      <td>-0.6342</td>\n",
              "      <td>-0.8614</td>\n",
              "      <td>-0.8318</td>\n",
              "      <td>-0.7228</td>\n",
              "      <td>-0.6312</td>\n",
              "      <td>-0.4986</td>\n",
              "      <td>-0.7080</td>\n",
              "      <td>-0.6666</td>\n",
              "      <td>-0.5428</td>\n",
              "      <td>-0.4130</td>\n",
              "      <td>-0.3776</td>\n",
              "      <td>-0.0472</td>\n",
              "      <td>0.1356</td>\n",
              "      <td>0.6136</td>\n",
              "      <td>0.8024</td>\n",
              "      <td>1.0000</td>\n",
              "      <td>0.9794</td>\n",
              "      <td>0.9352</td>\n",
              "      <td>0.8732</td>\n",
              "      <td>0.9440</td>\n",
              "      <td>0.9588</td>\n",
              "      <td>0.6962</td>\n",
              "      <td>0.4838</td>\n",
              "      <td>0.3982</td>\n",
              "      <td>0.2064</td>\n",
              "      <td>-0.3270</td>\n",
              "      <td>0.0134</td>\n",
              "      <td>0.3620</td>\n",
              "      <td>0.3218</td>\n",
              "      <td>-0.4558</td>\n",
              "      <td>-0.8096</td>\n",
              "      <td>-0.7748</td>\n",
              "      <td>-0.7238</td>\n",
              "      <td>...</td>\n",
              "      <td>-1</td>\n",
              "      <td>1</td>\n",
              "      <td>-0.8</td>\n",
              "      <td>-1.0</td>\n",
              "      <td>-0.6</td>\n",
              "      <td>-0.8334</td>\n",
              "      <td>-1</td>\n",
              "      <td>-0.4286</td>\n",
              "      <td>-0.2540</td>\n",
              "      <td>-0.3650</td>\n",
              "      <td>-0.0952</td>\n",
              "      <td>-0.0794</td>\n",
              "      <td>0.0318</td>\n",
              "      <td>-0.2064</td>\n",
              "      <td>0.0634</td>\n",
              "      <td>0.1112</td>\n",
              "      <td>0.1746</td>\n",
              "      <td>0.2380</td>\n",
              "      <td>0.1904</td>\n",
              "      <td>0.5080</td>\n",
              "      <td>0.5396</td>\n",
              "      <td>0.0318</td>\n",
              "      <td>-0.0158</td>\n",
              "      <td>0.7142</td>\n",
              "      <td>1.0000</td>\n",
              "      <td>0.4126</td>\n",
              "      <td>-0.0794</td>\n",
              "      <td>-0.0476</td>\n",
              "      <td>0.0000</td>\n",
              "      <td>0.0952</td>\n",
              "      <td>-0.1112</td>\n",
              "      <td>-0.0476</td>\n",
              "      <td>-0.1746</td>\n",
              "      <td>0.0318</td>\n",
              "      <td>-0.0476</td>\n",
              "      <td>0.1112</td>\n",
              "      <td>0.2540</td>\n",
              "      <td>0.1588</td>\n",
              "      <td>-0.4762</td>\n",
              "      <td>'2'</td>\n",
              "    </tr>\n",
              "    <tr>\n",
              "      <th>3</th>\n",
              "      <td>-0.3808</td>\n",
              "      <td>-0.0096</td>\n",
              "      <td>0.2602</td>\n",
              "      <td>0.2554</td>\n",
              "      <td>-0.4290</td>\n",
              "      <td>-0.6746</td>\n",
              "      <td>-0.6868</td>\n",
              "      <td>-0.6650</td>\n",
              "      <td>-0.8410</td>\n",
              "      <td>-0.9614</td>\n",
              "      <td>-0.7374</td>\n",
              "      <td>-0.7084</td>\n",
              "      <td>-0.6772</td>\n",
              "      <td>-0.6338</td>\n",
              "      <td>-0.6482</td>\n",
              "      <td>-0.6240</td>\n",
              "      <td>-0.3976</td>\n",
              "      <td>-0.5662</td>\n",
              "      <td>-0.2168</td>\n",
              "      <td>0.0458</td>\n",
              "      <td>0.3832</td>\n",
              "      <td>0.6168</td>\n",
              "      <td>0.8988</td>\n",
              "      <td>1.0000</td>\n",
              "      <td>0.9156</td>\n",
              "      <td>0.8796</td>\n",
              "      <td>0.9132</td>\n",
              "      <td>0.7132</td>\n",
              "      <td>0.7590</td>\n",
              "      <td>0.7278</td>\n",
              "      <td>0.5856</td>\n",
              "      <td>0.5060</td>\n",
              "      <td>-0.3710</td>\n",
              "      <td>-0.0868</td>\n",
              "      <td>0.4114</td>\n",
              "      <td>0.3438</td>\n",
              "      <td>-0.1816</td>\n",
              "      <td>-0.5964</td>\n",
              "      <td>-0.6888</td>\n",
              "      <td>-0.6686</td>\n",
              "      <td>...</td>\n",
              "      <td>-1</td>\n",
              "      <td>1</td>\n",
              "      <td>-1.0</td>\n",
              "      <td>-1.0</td>\n",
              "      <td>-1.0</td>\n",
              "      <td>-0.8334</td>\n",
              "      <td>-1</td>\n",
              "      <td>-0.2374</td>\n",
              "      <td>-0.5396</td>\n",
              "      <td>0.1798</td>\n",
              "      <td>0.2086</td>\n",
              "      <td>0.0792</td>\n",
              "      <td>0.0360</td>\n",
              "      <td>0.3238</td>\n",
              "      <td>0.3956</td>\n",
              "      <td>0.4100</td>\n",
              "      <td>0.2662</td>\n",
              "      <td>0.5252</td>\n",
              "      <td>0.3670</td>\n",
              "      <td>0.9136</td>\n",
              "      <td>1.0000</td>\n",
              "      <td>0.4100</td>\n",
              "      <td>0.1224</td>\n",
              "      <td>0.5252</td>\n",
              "      <td>0.4388</td>\n",
              "      <td>0.0216</td>\n",
              "      <td>-0.0792</td>\n",
              "      <td>0.3812</td>\n",
              "      <td>0.2806</td>\n",
              "      <td>0.0648</td>\n",
              "      <td>-0.0504</td>\n",
              "      <td>-0.0360</td>\n",
              "      <td>-0.1224</td>\n",
              "      <td>0.1366</td>\n",
              "      <td>0.2950</td>\n",
              "      <td>0.0792</td>\n",
              "      <td>-0.0072</td>\n",
              "      <td>0.0936</td>\n",
              "      <td>-0.1510</td>\n",
              "      <td>'2'</td>\n",
              "    </tr>\n",
              "    <tr>\n",
              "      <th>4</th>\n",
              "      <td>-0.3412</td>\n",
              "      <td>0.0946</td>\n",
              "      <td>0.6082</td>\n",
              "      <td>0.6216</td>\n",
              "      <td>-0.1622</td>\n",
              "      <td>-0.3784</td>\n",
              "      <td>-0.4324</td>\n",
              "      <td>-0.4358</td>\n",
              "      <td>-0.4966</td>\n",
              "      <td>-0.5406</td>\n",
              "      <td>-0.5472</td>\n",
              "      <td>-0.5440</td>\n",
              "      <td>-0.4494</td>\n",
              "      <td>-0.2332</td>\n",
              "      <td>-0.2332</td>\n",
              "      <td>-0.1148</td>\n",
              "      <td>0.0068</td>\n",
              "      <td>0.0778</td>\n",
              "      <td>0.4864</td>\n",
              "      <td>0.9054</td>\n",
              "      <td>0.9560</td>\n",
              "      <td>0.7602</td>\n",
              "      <td>0.7770</td>\n",
              "      <td>0.7636</td>\n",
              "      <td>0.8818</td>\n",
              "      <td>1.0000</td>\n",
              "      <td>0.9426</td>\n",
              "      <td>0.7162</td>\n",
              "      <td>0.5472</td>\n",
              "      <td>0.4122</td>\n",
              "      <td>0.2770</td>\n",
              "      <td>0.2364</td>\n",
              "      <td>-0.4684</td>\n",
              "      <td>-0.1394</td>\n",
              "      <td>0.4210</td>\n",
              "      <td>0.4316</td>\n",
              "      <td>-0.3106</td>\n",
              "      <td>-0.5448</td>\n",
              "      <td>-0.5132</td>\n",
              "      <td>-0.6368</td>\n",
              "      <td>...</td>\n",
              "      <td>1</td>\n",
              "      <td>-1</td>\n",
              "      <td>-1.0</td>\n",
              "      <td>-1.0</td>\n",
              "      <td>-1.0</td>\n",
              "      <td>1.0000</td>\n",
              "      <td>-1</td>\n",
              "      <td>0.2500</td>\n",
              "      <td>0.5000</td>\n",
              "      <td>0.0624</td>\n",
              "      <td>0.3438</td>\n",
              "      <td>0.2500</td>\n",
              "      <td>0.2500</td>\n",
              "      <td>0.6250</td>\n",
              "      <td>0.2500</td>\n",
              "      <td>0.5312</td>\n",
              "      <td>0.4376</td>\n",
              "      <td>0.4688</td>\n",
              "      <td>0.5626</td>\n",
              "      <td>0.5938</td>\n",
              "      <td>0.3438</td>\n",
              "      <td>0.5626</td>\n",
              "      <td>0.2500</td>\n",
              "      <td>1.0000</td>\n",
              "      <td>0.9376</td>\n",
              "      <td>0.3438</td>\n",
              "      <td>0.2812</td>\n",
              "      <td>-0.0312</td>\n",
              "      <td>0.4376</td>\n",
              "      <td>0.2812</td>\n",
              "      <td>0.1562</td>\n",
              "      <td>0.3124</td>\n",
              "      <td>0.2500</td>\n",
              "      <td>-0.0938</td>\n",
              "      <td>0.1562</td>\n",
              "      <td>0.3124</td>\n",
              "      <td>0.3124</td>\n",
              "      <td>0.2188</td>\n",
              "      <td>-0.2500</td>\n",
              "      <td>'3'</td>\n",
              "    </tr>\n",
              "  </tbody>\n",
              "</table>\n",
              "<p>5 rows × 618 columns</p>\n",
              "</div>"
            ],
            "text/plain": [
              "       f1      f2      f3      f4  ...    f615    f616    f617  class\n",
              "0 -0.4394 -0.0930  0.1718  0.4620  ...  0.6410  0.5898 -0.4872    '1'\n",
              "1 -0.4348 -0.1198  0.2474  0.4036  ...  0.4318  0.4546 -0.0910    '1'\n",
              "2 -0.2330  0.2124  0.5014  0.5222  ...  0.2540  0.1588 -0.4762    '2'\n",
              "3 -0.3808 -0.0096  0.2602  0.2554  ... -0.0072  0.0936 -0.1510    '2'\n",
              "4 -0.3412  0.0946  0.6082  0.6216  ...  0.3124  0.2188 -0.2500    '3'\n",
              "\n",
              "[5 rows x 618 columns]"
            ]
          },
          "metadata": {
            "tags": []
          },
          "execution_count": 11
        }
      ]
    },
    {
      "cell_type": "code",
      "metadata": {
        "id": "587CG36uxYq5",
        "colab_type": "code",
        "colab": {}
      },
      "source": [
        "y = df.pop('class')\n"
      ],
      "execution_count": 12,
      "outputs": []
    },
    {
      "cell_type": "code",
      "metadata": {
        "id": "EA8oJ74Ex-5z",
        "colab_type": "code",
        "colab": {}
      },
      "source": [
        "X_train, X_test, y_train, y_test = train_test_split\\\n",
        "                                   (df, y, test_size=0.3, \\\n",
        "                                    random_state=888)"
      ],
      "execution_count": 13,
      "outputs": []
    },
    {
      "cell_type": "code",
      "metadata": {
        "id": "hMVo846WyA4h",
        "colab_type": "code",
        "colab": {}
      },
      "source": [
        "def train_rf(X_train, y_train, random_state=888, \\\n",
        "             n_estimators=10, max_depth=None, \\\n",
        "             min_samples_leaf=1, max_features='sqrt'):\n",
        "    rf_model = RandomForestClassifier\\\n",
        "               (random_state=random_state, \\\n",
        "                n_estimators=n_estimators, \\\n",
        "                max_depth=max_depth, \\\n",
        "                min_samples_leaf=min_samples_leaf, \\\n",
        "                max_features=max_features)\n",
        "    rf_model.fit(X_train, y_train)\n",
        "    return rf_model"
      ],
      "execution_count": 14,
      "outputs": []
    },
    {
      "cell_type": "code",
      "metadata": {
        "id": "T8PonaQByRzc",
        "colab_type": "code",
        "colab": {
          "base_uri": "https://localhost:8080/",
          "height": 340
        },
        "outputId": "cb1953ac-2130-400e-b62e-a6128b139d5b"
      },
      "source": [
        "rf_1 = train_rf(X_train, y_train)\n",
        "rf_1.get_params()"
      ],
      "execution_count": 15,
      "outputs": [
        {
          "output_type": "execute_result",
          "data": {
            "text/plain": [
              "{'bootstrap': True,\n",
              " 'ccp_alpha': 0.0,\n",
              " 'class_weight': None,\n",
              " 'criterion': 'gini',\n",
              " 'max_depth': None,\n",
              " 'max_features': 'sqrt',\n",
              " 'max_leaf_nodes': None,\n",
              " 'max_samples': None,\n",
              " 'min_impurity_decrease': 0.0,\n",
              " 'min_impurity_split': None,\n",
              " 'min_samples_leaf': 1,\n",
              " 'min_samples_split': 2,\n",
              " 'min_weight_fraction_leaf': 0.0,\n",
              " 'n_estimators': 10,\n",
              " 'n_jobs': None,\n",
              " 'oob_score': False,\n",
              " 'random_state': 888,\n",
              " 'verbose': 0,\n",
              " 'warm_start': False}"
            ]
          },
          "metadata": {
            "tags": []
          },
          "execution_count": 15
        }
      ]
    },
    {
      "cell_type": "code",
      "metadata": {
        "id": "Rj4OyZnhyUoA",
        "colab_type": "code",
        "colab": {}
      },
      "source": [
        "def get_preds(rf_model, X_train, X_test):\n",
        "    train_preds = rf_model.predict(X_train)\n",
        "    test_preds = rf_model.predict(X_test)\n",
        "    return train_preds, test_preds"
      ],
      "execution_count": 16,
      "outputs": []
    },
    {
      "cell_type": "code",
      "metadata": {
        "id": "iJNviEa8yaT3",
        "colab_type": "code",
        "colab": {}
      },
      "source": [
        "trn_preds, tst_preds = get_preds(rf_1, X_train, X_test)\n"
      ],
      "execution_count": 17,
      "outputs": []
    },
    {
      "cell_type": "code",
      "metadata": {
        "id": "-LCX0L8wyt3Q",
        "colab_type": "code",
        "colab": {}
      },
      "source": [
        "def print_accuracy(y_train, y_test, train_preds, \\\n",
        "                   test_preds):\n",
        "    train_acc = accuracy_score(y_train, train_preds)\n",
        "    test_acc = accuracy_score(y_test, test_preds)\n",
        "    print(train_acc)\n",
        "    print(test_acc)\n",
        "    return train_acc, test_acc"
      ],
      "execution_count": 18,
      "outputs": []
    },
    {
      "cell_type": "code",
      "metadata": {
        "id": "ig_KZJfTy0nX",
        "colab_type": "code",
        "colab": {
          "base_uri": "https://localhost:8080/",
          "height": 51
        },
        "outputId": "d0126d42-1394-4d09-86c8-d22bcc54c16a"
      },
      "source": [
        "trn_acc, tst_preds = print_accuracy(y_train, y_test, \\\n",
        "                                    trn_preds, tst_preds)"
      ],
      "execution_count": 19,
      "outputs": [
        {
          "output_type": "stream",
          "text": [
            "0.9981674912955837\n",
            "0.8935897435897436\n"
          ],
          "name": "stdout"
        }
      ]
    },
    {
      "cell_type": "code",
      "metadata": {
        "id": "m6ZOJ5Oty8Rn",
        "colab_type": "code",
        "colab": {}
      },
      "source": [
        "def fit_predict_rf(X_train, X_test, y_train, y_test, \\\n",
        "                   random_state=888, n_estimators=10, \\\n",
        "                   max_depth=None, min_samples_leaf=1, \\\n",
        "                   max_features='sqrt'):\n",
        "    rf_model = train_rf(X_train, y_train, \\\n",
        "                        random_state=random_state, \\\n",
        "                        n_estimators=n_estimators, \\\n",
        "                        max_depth=max_depth, \\\n",
        "                        min_samples_leaf=min_samples_leaf, \\\n",
        "                        max_features=max_features)\n",
        "    train_preds, test_preds = get_preds(rf_model, X_train, \\\n",
        "                                        X_test)\n",
        "    train_acc, test_acc = print_accuracy(y_train, y_test, \\\n",
        "                                         train_preds, \\\n",
        "                                         test_preds)\n",
        "    return rf_model, train_preds, test_preds, \\\n",
        "           train_acc, test_acc"
      ],
      "execution_count": 20,
      "outputs": []
    },
    {
      "cell_type": "code",
      "metadata": {
        "id": "6i68Xb7Ey-ez",
        "colab_type": "code",
        "colab": {
          "base_uri": "https://localhost:8080/",
          "height": 51
        },
        "outputId": "2326b69c-12fa-420b-c442-10e8f285d29e"
      },
      "source": [
        "rf_model_1, trn_preds_1, tst_preds_1, \\\n",
        "trn_acc_1, tst_acc_1 = fit_predict_rf(X_train, X_test, y_train,\\\n",
        "                                      y_test, random_state=888,\\\n",
        "                                      n_estimators=20, \\\n",
        "                                      max_depth=None, \\\n",
        "                                      min_samples_leaf=1, \\\n",
        "                                      max_features='sqrt')"
      ],
      "execution_count": 21,
      "outputs": [
        {
          "output_type": "stream",
          "text": [
            "0.9998167491295583\n",
            "0.9192307692307692\n"
          ],
          "name": "stdout"
        }
      ]
    },
    {
      "cell_type": "code",
      "metadata": {
        "id": "YMTcydsVzHDN",
        "colab_type": "code",
        "colab": {
          "base_uri": "https://localhost:8080/",
          "height": 51
        },
        "outputId": "82417432-322f-4e7c-ad25-c8e70e0cae1b"
      },
      "source": [
        "rf_model_2, trn_preds_2, tst_preds_2, \\\n",
        "trn_acc_2, tst_acc_2 = fit_predict_rf(X_train, X_test, y_train,\\\n",
        "                                      y_test, random_state=888,\\\n",
        "                                      n_estimators=50, \\\n",
        "                                      max_depth=None, \\\n",
        "                                      min_samples_leaf=1, \\\n",
        "                                      max_features='sqrt')"
      ],
      "execution_count": 22,
      "outputs": [
        {
          "output_type": "stream",
          "text": [
            "1.0\n",
            "0.9333333333333333\n"
          ],
          "name": "stdout"
        }
      ]
    },
    {
      "cell_type": "code",
      "metadata": {
        "id": "axcovNfFzI2O",
        "colab_type": "code",
        "colab": {
          "base_uri": "https://localhost:8080/",
          "height": 51
        },
        "outputId": "d7032e8e-7470-4f79-a249-020c06ff79a5"
      },
      "source": [
        "rf_model_3, trn_preds_3, tst_preds_3, \\\n",
        "trn_acc_3, tst_acc_3 = fit_predict_rf(X_train, X_test, y_train,\\\n",
        "                                      y_test, random_state=888,\\\n",
        "                                      n_estimators=50, \\\n",
        "                                      max_depth=5, \\\n",
        "                                      min_samples_leaf=1, \\\n",
        "                                      max_features='sqrt')"
      ],
      "execution_count": 23,
      "outputs": [
        {
          "output_type": "stream",
          "text": [
            "0.8552318123511087\n",
            "0.8213675213675213\n"
          ],
          "name": "stdout"
        }
      ]
    },
    {
      "cell_type": "code",
      "metadata": {
        "id": "ZbgFtu_HzPW-",
        "colab_type": "code",
        "colab": {
          "base_uri": "https://localhost:8080/",
          "height": 51
        },
        "outputId": "f79a1b5a-5413-45c2-d596-9243ecec0cab"
      },
      "source": [
        "rf_model_4, trn_preds_4, tst_preds_4, \\\n",
        "trn_acc_4, tst_acc_4 = fit_predict_rf(X_train, X_test, y_train,\\\n",
        "                                      y_test, random_state=888,\\\n",
        "                                      n_estimators=50, \\\n",
        "                                      max_depth=10, \\\n",
        "                                      min_samples_leaf=1, \\\n",
        "                                      max_features='sqrt')"
      ],
      "execution_count": 24,
      "outputs": [
        {
          "output_type": "stream",
          "text": [
            "0.9844236760124611\n",
            "0.9260683760683761\n"
          ],
          "name": "stdout"
        }
      ]
    },
    {
      "cell_type": "code",
      "metadata": {
        "id": "BIzAycJhzUnV",
        "colab_type": "code",
        "colab": {
          "base_uri": "https://localhost:8080/",
          "height": 51
        },
        "outputId": "339d22c4-1baa-44e7-b60c-c45895922f50"
      },
      "source": [
        "rf_model_5, trn_preds_5, tst_preds_5, \\\n",
        "trn_acc_5, tst_acc_5 = fit_predict_rf(X_train, X_test, y_train,\\\n",
        "                                      y_test, random_state=888,\\\n",
        "                                      n_estimators=50, \\\n",
        "                                      max_depth=10, \\\n",
        "                                      min_samples_leaf=10, \\\n",
        "                                      max_features='sqrt')"
      ],
      "execution_count": 25,
      "outputs": [
        {
          "output_type": "stream",
          "text": [
            "0.9622503206890233\n",
            "0.9192307692307692\n"
          ],
          "name": "stdout"
        }
      ]
    },
    {
      "cell_type": "code",
      "metadata": {
        "id": "8NYc_JRszac6",
        "colab_type": "code",
        "colab": {
          "base_uri": "https://localhost:8080/",
          "height": 51
        },
        "outputId": "a2296649-ddeb-427c-8748-5fc7dbc1e805"
      },
      "source": [
        "rf_model_6, trn_preds_6, tst_preds_6, \\\n",
        "trn_acc_6, tst_acc_6 = fit_predict_rf(X_train, X_test, y_train,\\\n",
        "                                      y_test, random_state=888,\\\n",
        "                                      n_estimators=50, \\\n",
        "                                      max_depth=10, \\\n",
        "                                      min_samples_leaf=50, \\\n",
        "                                      max_features='sqrt')"
      ],
      "execution_count": 26,
      "outputs": [
        {
          "output_type": "stream",
          "text": [
            "0.9184533626534725\n",
            "0.8940170940170941\n"
          ],
          "name": "stdout"
        }
      ]
    },
    {
      "cell_type": "code",
      "metadata": {
        "id": "IW3hixAwzj6M",
        "colab_type": "code",
        "colab": {
          "base_uri": "https://localhost:8080/",
          "height": 51
        },
        "outputId": "2eb0201d-94b6-4713-9b34-8cbc35fc434a"
      },
      "source": [
        "rf_model_7, trn_preds_7, tst_preds_7, \\\n",
        "trn_acc_7, tst_acc_7 = fit_predict_rf(X_train, X_test, y_train,\\\n",
        "                                      y_test, random_state=888,\\\n",
        "                                      n_estimators=50, \\\n",
        "                                      max_depth=10, \\\n",
        "                                      min_samples_leaf=50, \\\n",
        "                                      max_features=0.5)"
      ],
      "execution_count": 27,
      "outputs": [
        {
          "output_type": "stream",
          "text": [
            "0.8926149899212021\n",
            "0.867948717948718\n"
          ],
          "name": "stdout"
        }
      ]
    },
    {
      "cell_type": "code",
      "metadata": {
        "id": "W68jiX3xzo9h",
        "colab_type": "code",
        "colab": {
          "base_uri": "https://localhost:8080/",
          "height": 51
        },
        "outputId": "75f3588c-629c-4806-c636-dee0ec73203a"
      },
      "source": [
        "rf_model_8, trn_preds_8, tst_preds_8, \\\n",
        "trn_acc_8, tst_acc_8 = fit_predict_rf(X_train, X_test, y_train,\\\n",
        "                                      y_test, random_state=888,\\\n",
        "                                      n_estimators=50, \\\n",
        "                                      max_depth=10, \\\n",
        "                                      min_samples_leaf=50, \\\n",
        "                                      max_features=0.3)"
      ],
      "execution_count": 28,
      "outputs": [
        {
          "output_type": "stream",
          "text": [
            "0.9008612790910757\n",
            "0.8717948717948718\n"
          ],
          "name": "stdout"
        }
      ]
    },
    {
      "cell_type": "code",
      "metadata": {
        "id": "iTpEWgB0zyw5",
        "colab_type": "code",
        "colab": {}
      },
      "source": [
        ""
      ],
      "execution_count": null,
      "outputs": []
    }
  ]
}