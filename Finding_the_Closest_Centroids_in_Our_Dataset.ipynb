{
  "nbformat": 4,
  "nbformat_minor": 0,
  "metadata": {
    "colab": {
      "name": " Finding the Closest Centroids in Our Dataset.ipynb",
      "provenance": [],
      "authorship_tag": "ABX9TyO3m7SOiZGZTSjnVJkSy4LQ",
      "include_colab_link": true
    },
    "kernelspec": {
      "name": "python3",
      "display_name": "Python 3"
    }
  },
  "cells": [
    {
      "cell_type": "markdown",
      "metadata": {
        "id": "view-in-github",
        "colab_type": "text"
      },
      "source": [
        "<a href=\"https://colab.research.google.com/github/chibaba/DATA-SCIENCE-AND-MACHINE-LEARNING/blob/master/Finding_the_Closest_Centroids_in_Our_Dataset.ipynb\" target=\"_parent\"><img src=\"https://colab.research.google.com/assets/colab-badge.svg\" alt=\"Open In Colab\"/></a>"
      ]
    },
    {
      "cell_type": "code",
      "metadata": {
        "id": "uMw0KVt0SWou",
        "colab_type": "code",
        "colab": {}
      },
      "source": [
        "import pandas as pd\n",
        "from sklearn.cluster import KMeans\n",
        "import altair as alt"
      ],
      "execution_count": 1,
      "outputs": []
    },
    {
      "cell_type": "code",
      "metadata": {
        "id": "1eSQ0hHXSwgF",
        "colab_type": "code",
        "colab": {}
      },
      "source": [
        "file_url = 'https://raw.githubusercontent.com/'\\\n",
        "           'PacktWorkshops/The-Data-Science-Workshop/'\\\n",
        "           'master/Chapter05/DataSet/taxstats2015.csv'\n",
        "df = pd.read_csv(file_url, \\\n",
        "                 usecols=['Postcode', \\\n",
        "                          'Average total business income', \\\n",
        "                          'Average total business expenses'])"
      ],
      "execution_count": 2,
      "outputs": []
    },
    {
      "cell_type": "code",
      "metadata": {
        "id": "5d-vP5xUXqgQ",
        "colab_type": "code",
        "colab": {}
      },
      "source": [
        "X = df[['Average total business income', \\\n",
        "        'Average total business expenses']]"
      ],
      "execution_count": 3,
      "outputs": []
    },
    {
      "cell_type": "code",
      "metadata": {
        "id": "4vn-psCdXzIl",
        "colab_type": "code",
        "colab": {}
      },
      "source": [
        "business_income_min = df['Average total business income'].min()\n",
        "business_income_max = df['Average total business income'].max()\n",
        "business_expenses_min = df['Average total business expenses']\\\n",
        "                        .min()\n",
        "business_expenses_max = df['Average total business expenses']\\\n",
        "                        .max()"
      ],
      "execution_count": 4,
      "outputs": []
    },
    {
      "cell_type": "code",
      "metadata": {
        "id": "15ZIdAe_X-Xp",
        "colab_type": "code",
        "colab": {
          "base_uri": "https://localhost:8080/",
          "height": 85
        },
        "outputId": "43d3d341-e9a3-4abc-9eae-0abd9856f3fa"
      },
      "source": [
        "print(business_income_min)\n",
        "print(business_income_max)\n",
        "print(business_expenses_min)\n",
        "print(business_expenses_max)"
      ],
      "execution_count": 5,
      "outputs": [
        {
          "output_type": "stream",
          "text": [
            "0\n",
            "876324\n",
            "0\n",
            "884659\n"
          ],
          "name": "stdout"
        }
      ]
    },
    {
      "cell_type": "code",
      "metadata": {
        "id": "ovvfiFKyYMfn",
        "colab_type": "code",
        "colab": {}
      },
      "source": [
        "import random\n",
        "random.seed(42)"
      ],
      "execution_count": 6,
      "outputs": []
    },
    {
      "cell_type": "code",
      "metadata": {
        "id": "aN10cROPYRw4",
        "colab_type": "code",
        "colab": {}
      },
      "source": [
        "centroids = pd.DataFrame()\n"
      ],
      "execution_count": 7,
      "outputs": []
    },
    {
      "cell_type": "code",
      "metadata": {
        "id": "hTbOVM_bYX6C",
        "colab_type": "code",
        "colab": {}
      },
      "source": [
        "centroids\\\n",
        "['Average total business income'] = random.sample\\\n",
        "                                    (range\\\n",
        "                                    (business_income_min, \\\n",
        "                                     business_income_max), 4)"
      ],
      "execution_count": 9,
      "outputs": []
    },
    {
      "cell_type": "code",
      "metadata": {
        "id": "0LA1ncDBYkKl",
        "colab_type": "code",
        "colab": {}
      },
      "source": [
        "centroids\\\n",
        "['Average total business expenses'] = random.sample\\\n",
        "                                      (range\\\n",
        "                                      (business_expenses_min,\\\n",
        "                                       business_expenses_max), 4)"
      ],
      "execution_count": 10,
      "outputs": []
    },
    {
      "cell_type": "code",
      "metadata": {
        "id": "IC3vJw6-Yt52",
        "colab_type": "code",
        "colab": {
          "base_uri": "https://localhost:8080/",
          "height": 173
        },
        "outputId": "6e206238-cff7-4d82-df5d-cfe2e51b2e8f"
      },
      "source": [
        "centroids['cluster'] = centroids.index\n",
        "centroids"
      ],
      "execution_count": 11,
      "outputs": [
        {
          "output_type": "execute_result",
          "data": {
            "text/html": [
              "<div>\n",
              "<style scoped>\n",
              "    .dataframe tbody tr th:only-of-type {\n",
              "        vertical-align: middle;\n",
              "    }\n",
              "\n",
              "    .dataframe tbody tr th {\n",
              "        vertical-align: top;\n",
              "    }\n",
              "\n",
              "    .dataframe thead th {\n",
              "        text-align: right;\n",
              "    }\n",
              "</style>\n",
              "<table border=\"1\" class=\"dataframe\">\n",
              "  <thead>\n",
              "    <tr style=\"text-align: right;\">\n",
              "      <th></th>\n",
              "      <th>Average total business income</th>\n",
              "      <th>Average total business expenses</th>\n",
              "      <th>cluster</th>\n",
              "    </tr>\n",
              "  </thead>\n",
              "  <tbody>\n",
              "    <tr>\n",
              "      <th>0</th>\n",
              "      <td>288389</td>\n",
              "      <td>772246</td>\n",
              "      <td>0</td>\n",
              "    </tr>\n",
              "    <tr>\n",
              "      <th>1</th>\n",
              "      <td>256787</td>\n",
              "      <td>107473</td>\n",
              "      <td>1</td>\n",
              "    </tr>\n",
              "    <tr>\n",
              "      <th>2</th>\n",
              "      <td>234053</td>\n",
              "      <td>709570</td>\n",
              "      <td>2</td>\n",
              "    </tr>\n",
              "    <tr>\n",
              "      <th>3</th>\n",
              "      <td>146316</td>\n",
              "      <td>776646</td>\n",
              "      <td>3</td>\n",
              "    </tr>\n",
              "  </tbody>\n",
              "</table>\n",
              "</div>"
            ],
            "text/plain": [
              "   Average total business income  Average total business expenses  cluster\n",
              "0                         288389                           772246        0\n",
              "1                         256787                           107473        1\n",
              "2                         234053                           709570        2\n",
              "3                         146316                           776646        3"
            ]
          },
          "metadata": {
            "tags": []
          },
          "execution_count": 11
        }
      ]
    },
    {
      "cell_type": "code",
      "metadata": {
        "id": "72VReodiYvfc",
        "colab_type": "code",
        "colab": {}
      },
      "source": [
        "chart1 = alt.Chart(df.head()).mark_circle()\\\n",
        "            .encode(x='Average total business income', \\\n",
        "                    y='Average total business expenses', \\\n",
        "                    color=alt.value('orange'), \\\n",
        "                    tooltip=['Postcode', \\\n",
        "                             'Average total business income', \\\n",
        "                             'Average total business expenses'])\\\n",
        "                   .interactive()"
      ],
      "execution_count": 12,
      "outputs": []
    },
    {
      "cell_type": "code",
      "metadata": {
        "id": "2fbXMcqPY0pW",
        "colab_type": "code",
        "colab": {}
      },
      "source": [
        "chart2 = alt.Chart(centroids).mark_circle(size=100)\\\n",
        "            .encode(x='Average total business income', \\\n",
        "                    y='Average total business expenses', \\\n",
        "                    color=alt.value('black'), \\\n",
        "                    tooltip=['cluster', \\\n",
        "                             'Average total business income',\\\n",
        "                             'Average total business expenses'])\\\n",
        "                   .interactive()"
      ],
      "execution_count": 13,
      "outputs": []
    },
    {
      "cell_type": "code",
      "metadata": {
        "id": "zJCrY12KZFQH",
        "colab_type": "code",
        "colab": {
          "base_uri": "https://localhost:8080/",
          "height": 368
        },
        "outputId": "caa09855-2aa5-4ead-b6cf-873c82710036"
      },
      "source": [
        "chart1 + chart2\n"
      ],
      "execution_count": 14,
      "outputs": [
        {
          "output_type": "execute_result",
          "data": {
            "text/plain": [
              "alt.LayerChart(...)"
            ],
            "text/html": [
              "\n",
              "<div id=\"altair-viz-8c9c30f31de14403af73f38b58b33bd1\"></div>\n",
              "<script type=\"text/javascript\">\n",
              "  (function(spec, embedOpt){\n",
              "    let outputDiv = document.currentScript.previousElementSibling;\n",
              "    if (outputDiv.id !== \"altair-viz-8c9c30f31de14403af73f38b58b33bd1\") {\n",
              "      outputDiv = document.getElementById(\"altair-viz-8c9c30f31de14403af73f38b58b33bd1\");\n",
              "    }\n",
              "    const paths = {\n",
              "      \"vega\": \"https://cdn.jsdelivr.net/npm//vega@5?noext\",\n",
              "      \"vega-lib\": \"https://cdn.jsdelivr.net/npm//vega-lib?noext\",\n",
              "      \"vega-lite\": \"https://cdn.jsdelivr.net/npm//vega-lite@4.8.1?noext\",\n",
              "      \"vega-embed\": \"https://cdn.jsdelivr.net/npm//vega-embed@6?noext\",\n",
              "    };\n",
              "\n",
              "    function loadScript(lib) {\n",
              "      return new Promise(function(resolve, reject) {\n",
              "        var s = document.createElement('script');\n",
              "        s.src = paths[lib];\n",
              "        s.async = true;\n",
              "        s.onload = () => resolve(paths[lib]);\n",
              "        s.onerror = () => reject(`Error loading script: ${paths[lib]}`);\n",
              "        document.getElementsByTagName(\"head\")[0].appendChild(s);\n",
              "      });\n",
              "    }\n",
              "\n",
              "    function showError(err) {\n",
              "      outputDiv.innerHTML = `<div class=\"error\" style=\"color:red;\">${err}</div>`;\n",
              "      throw err;\n",
              "    }\n",
              "\n",
              "    function displayChart(vegaEmbed) {\n",
              "      vegaEmbed(outputDiv, spec, embedOpt)\n",
              "        .catch(err => showError(`Javascript Error: ${err.message}<br>This usually means there's a typo in your chart specification. See the javascript console for the full traceback.`));\n",
              "    }\n",
              "\n",
              "    if(typeof define === \"function\" && define.amd) {\n",
              "      requirejs.config({paths});\n",
              "      require([\"vega-embed\"], displayChart, err => showError(`Error loading script: ${err.message}`));\n",
              "    } else if (typeof vegaEmbed === \"function\") {\n",
              "      displayChart(vegaEmbed);\n",
              "    } else {\n",
              "      loadScript(\"vega\")\n",
              "        .then(() => loadScript(\"vega-lite\"))\n",
              "        .then(() => loadScript(\"vega-embed\"))\n",
              "        .catch(showError)\n",
              "        .then(() => displayChart(vegaEmbed));\n",
              "    }\n",
              "  })({\"config\": {\"view\": {\"continuousWidth\": 400, \"continuousHeight\": 300}}, \"layer\": [{\"data\": {\"name\": \"data-ee08fe22868040b6b3d88b7a2d94fff4\"}, \"mark\": \"circle\", \"encoding\": {\"color\": {\"value\": \"orange\"}, \"tooltip\": [{\"type\": \"quantitative\", \"field\": \"Postcode\"}, {\"type\": \"quantitative\", \"field\": \"Average total business income\"}, {\"type\": \"quantitative\", \"field\": \"Average total business expenses\"}], \"x\": {\"type\": \"quantitative\", \"field\": \"Average total business income\"}, \"y\": {\"type\": \"quantitative\", \"field\": \"Average total business expenses\"}}, \"selection\": {\"selector001\": {\"type\": \"interval\", \"bind\": \"scales\", \"encodings\": [\"x\", \"y\"]}}}, {\"data\": {\"name\": \"data-cf07bf0b764f70c0c261b0e26517107f\"}, \"mark\": {\"type\": \"circle\", \"size\": 100}, \"encoding\": {\"color\": {\"value\": \"black\"}, \"tooltip\": [{\"type\": \"quantitative\", \"field\": \"cluster\"}, {\"type\": \"quantitative\", \"field\": \"Average total business income\"}, {\"type\": \"quantitative\", \"field\": \"Average total business expenses\"}], \"x\": {\"type\": \"quantitative\", \"field\": \"Average total business income\"}, \"y\": {\"type\": \"quantitative\", \"field\": \"Average total business expenses\"}}, \"selection\": {\"selector002\": {\"type\": \"interval\", \"bind\": \"scales\", \"encodings\": [\"x\", \"y\"]}}}], \"$schema\": \"https://vega.github.io/schema/vega-lite/v4.8.1.json\", \"datasets\": {\"data-ee08fe22868040b6b3d88b7a2d94fff4\": [{\"Postcode\": 2000, \"Average total business income\": 210901, \"Average total business expenses\": 222191}, {\"Postcode\": 2006, \"Average total business income\": 69983, \"Average total business expenses\": 48971}, {\"Postcode\": 2007, \"Average total business income\": 575099, \"Average total business expenses\": 639499}, {\"Postcode\": 2008, \"Average total business income\": 53329, \"Average total business expenses\": 32173}, {\"Postcode\": 2009, \"Average total business income\": 237539, \"Average total business expenses\": 222993}], \"data-cf07bf0b764f70c0c261b0e26517107f\": [{\"Average total business income\": 288389, \"Average total business expenses\": 772246, \"cluster\": 0}, {\"Average total business income\": 256787, \"Average total business expenses\": 107473, \"cluster\": 1}, {\"Average total business income\": 234053, \"Average total business expenses\": 709570, \"cluster\": 2}, {\"Average total business income\": 146316, \"Average total business expenses\": 776646, \"cluster\": 3}]}}, {\"mode\": \"vega-lite\"});\n",
              "</script>"
            ]
          },
          "metadata": {
            "tags": []
          },
          "execution_count": 14
        }
      ]
    },
    {
      "cell_type": "code",
      "metadata": {
        "id": "baGR8q0rZJeq",
        "colab_type": "code",
        "colab": {}
      },
      "source": [
        "def squared_euclidean(data_x, data_y, \\\n",
        "                      centroid_x, centroid_y, ):\n",
        "    return (data_x - centroid_x)**2 + (data_y - centroid_y)**2"
      ],
      "execution_count": 15,
      "outputs": []
    },
    {
      "cell_type": "code",
      "metadata": {
        "id": "tRfXrurOZVdN",
        "colab_type": "code",
        "colab": {}
      },
      "source": [
        "data_x = df.at[0, 'Average total business income']\n",
        "data_y = df.at[0, 'Average total business expenses']"
      ],
      "execution_count": 16,
      "outputs": []
    },
    {
      "cell_type": "code",
      "metadata": {
        "id": "tnJqkr52Zfqk",
        "colab_type": "code",
        "colab": {
          "base_uri": "https://localhost:8080/",
          "height": 34
        },
        "outputId": "ed7a0c98-7004-4871-bda3-b9549022cfb2"
      },
      "source": [
        "distances = [squared_euclidean\\\n",
        "             (data_x, data_y, centroids.at\\\n",
        "              [i, 'Average total business income'], \\\n",
        "              centroids.at[i, \\\n",
        "              'Average total business expenses']) \\\n",
        "              for i in range(4)]\n",
        "distances"
      ],
      "execution_count": 17,
      "outputs": [
        {
          "output_type": "execute_result",
          "data": {
            "text/plain": [
              "[308564893169, 15265744520, 238074304745, 311591569250]"
            ]
          },
          "metadata": {
            "tags": []
          },
          "execution_count": 17
        }
      ]
    },
    {
      "cell_type": "code",
      "metadata": {
        "id": "GWR_ChFsZhtp",
        "colab_type": "code",
        "colab": {}
      },
      "source": [
        "cluster_index = distances.index(min(distances))\n"
      ],
      "execution_count": 18,
      "outputs": []
    },
    {
      "cell_type": "code",
      "metadata": {
        "id": "iCZ1xjElZs0i",
        "colab_type": "code",
        "colab": {}
      },
      "source": [
        "df.at[0, 'cluster'] = cluster_index\n"
      ],
      "execution_count": 20,
      "outputs": []
    },
    {
      "cell_type": "code",
      "metadata": {
        "id": "Ed7grMz-ZwYX",
        "colab_type": "code",
        "colab": {
          "base_uri": "https://localhost:8080/",
          "height": 204
        },
        "outputId": "01b7b1b0-1982-4c57-a4dc-b38003159365"
      },
      "source": [
        "df.head()\n"
      ],
      "execution_count": 21,
      "outputs": [
        {
          "output_type": "execute_result",
          "data": {
            "text/html": [
              "<div>\n",
              "<style scoped>\n",
              "    .dataframe tbody tr th:only-of-type {\n",
              "        vertical-align: middle;\n",
              "    }\n",
              "\n",
              "    .dataframe tbody tr th {\n",
              "        vertical-align: top;\n",
              "    }\n",
              "\n",
              "    .dataframe thead th {\n",
              "        text-align: right;\n",
              "    }\n",
              "</style>\n",
              "<table border=\"1\" class=\"dataframe\">\n",
              "  <thead>\n",
              "    <tr style=\"text-align: right;\">\n",
              "      <th></th>\n",
              "      <th>Postcode</th>\n",
              "      <th>Average total business income</th>\n",
              "      <th>Average total business expenses</th>\n",
              "      <th>cluster</th>\n",
              "    </tr>\n",
              "  </thead>\n",
              "  <tbody>\n",
              "    <tr>\n",
              "      <th>0</th>\n",
              "      <td>2000</td>\n",
              "      <td>210901</td>\n",
              "      <td>222191</td>\n",
              "      <td>1.0</td>\n",
              "    </tr>\n",
              "    <tr>\n",
              "      <th>1</th>\n",
              "      <td>2006</td>\n",
              "      <td>69983</td>\n",
              "      <td>48971</td>\n",
              "      <td>NaN</td>\n",
              "    </tr>\n",
              "    <tr>\n",
              "      <th>2</th>\n",
              "      <td>2007</td>\n",
              "      <td>575099</td>\n",
              "      <td>639499</td>\n",
              "      <td>NaN</td>\n",
              "    </tr>\n",
              "    <tr>\n",
              "      <th>3</th>\n",
              "      <td>2008</td>\n",
              "      <td>53329</td>\n",
              "      <td>32173</td>\n",
              "      <td>NaN</td>\n",
              "    </tr>\n",
              "    <tr>\n",
              "      <th>4</th>\n",
              "      <td>2009</td>\n",
              "      <td>237539</td>\n",
              "      <td>222993</td>\n",
              "      <td>NaN</td>\n",
              "    </tr>\n",
              "  </tbody>\n",
              "</table>\n",
              "</div>"
            ],
            "text/plain": [
              "   Postcode  ...  cluster\n",
              "0      2000  ...      1.0\n",
              "1      2006  ...      NaN\n",
              "2      2007  ...      NaN\n",
              "3      2008  ...      NaN\n",
              "4      2009  ...      NaN\n",
              "\n",
              "[5 rows x 4 columns]"
            ]
          },
          "metadata": {
            "tags": []
          },
          "execution_count": 21
        }
      ]
    },
    {
      "cell_type": "code",
      "metadata": {
        "id": "O2nKEwDWaCWk",
        "colab_type": "code",
        "colab": {
          "base_uri": "https://localhost:8080/",
          "height": 204
        },
        "outputId": "b3b54540-361e-43da-e214-fdfacb24797a"
      },
      "source": [
        "distances = [squared_euclidean\\\n",
        "             (df.at[1, 'Average total business income'], \\\n",
        "              df.at[1, 'Average total business expenses'], \\\n",
        "              centroids.at[i, 'Average total business income'],\\\n",
        "              centroids.at[i, \\\n",
        "                           'Average total business expenses'])\\\n",
        "             for i in range(4)]\n",
        "df.at[1, 'cluster'] = distances.index(min(distances))\n",
        "distances = [squared_euclidean\\\n",
        "             (df.at[2, 'Average total business income'], \\\n",
        "              df.at[2, 'Average total business expenses'], \\\n",
        "              centroids.at[i, 'Average total business income'],\\\n",
        "              centroids.at[i, \\\n",
        "                           'Average total business expenses'])\\\n",
        "             for i in range(4)]\n",
        "df.at[2, 'cluster'] = distances.index(min(distances))\n",
        "distances = [squared_euclidean\\\n",
        "             (df.at[3, 'Average total business income'], \\\n",
        "              df.at[3, 'Average total business expenses'], \\\n",
        "              centroids.at[i, 'Average total business income'],\\\n",
        "              centroids.at[i, \\\n",
        "                           'Average total business expenses'])\\\n",
        "             for i in range(4)]\n",
        "df.at[3, 'cluster'] = distances.index(min(distances))\n",
        "distances = [squared_euclidean\\\n",
        "             (df.at[4, 'Average total business income'], \\\n",
        "              df.at[4, 'Average total business expenses'], \\\n",
        "              centroids.at[i, \\\n",
        "              'Average total business income'], \\\n",
        "              centroids.at[i, \\\n",
        "              'Average total business expenses']) \\\n",
        "             for i in range(4)]\n",
        "df.at[4, 'cluster'] = distances.index(min(distances))\n",
        "df.head()"
      ],
      "execution_count": 22,
      "outputs": [
        {
          "output_type": "execute_result",
          "data": {
            "text/html": [
              "<div>\n",
              "<style scoped>\n",
              "    .dataframe tbody tr th:only-of-type {\n",
              "        vertical-align: middle;\n",
              "    }\n",
              "\n",
              "    .dataframe tbody tr th {\n",
              "        vertical-align: top;\n",
              "    }\n",
              "\n",
              "    .dataframe thead th {\n",
              "        text-align: right;\n",
              "    }\n",
              "</style>\n",
              "<table border=\"1\" class=\"dataframe\">\n",
              "  <thead>\n",
              "    <tr style=\"text-align: right;\">\n",
              "      <th></th>\n",
              "      <th>Postcode</th>\n",
              "      <th>Average total business income</th>\n",
              "      <th>Average total business expenses</th>\n",
              "      <th>cluster</th>\n",
              "    </tr>\n",
              "  </thead>\n",
              "  <tbody>\n",
              "    <tr>\n",
              "      <th>0</th>\n",
              "      <td>2000</td>\n",
              "      <td>210901</td>\n",
              "      <td>222191</td>\n",
              "      <td>1.0</td>\n",
              "    </tr>\n",
              "    <tr>\n",
              "      <th>1</th>\n",
              "      <td>2006</td>\n",
              "      <td>69983</td>\n",
              "      <td>48971</td>\n",
              "      <td>1.0</td>\n",
              "    </tr>\n",
              "    <tr>\n",
              "      <th>2</th>\n",
              "      <td>2007</td>\n",
              "      <td>575099</td>\n",
              "      <td>639499</td>\n",
              "      <td>0.0</td>\n",
              "    </tr>\n",
              "    <tr>\n",
              "      <th>3</th>\n",
              "      <td>2008</td>\n",
              "      <td>53329</td>\n",
              "      <td>32173</td>\n",
              "      <td>1.0</td>\n",
              "    </tr>\n",
              "    <tr>\n",
              "      <th>4</th>\n",
              "      <td>2009</td>\n",
              "      <td>237539</td>\n",
              "      <td>222993</td>\n",
              "      <td>1.0</td>\n",
              "    </tr>\n",
              "  </tbody>\n",
              "</table>\n",
              "</div>"
            ],
            "text/plain": [
              "   Postcode  ...  cluster\n",
              "0      2000  ...      1.0\n",
              "1      2006  ...      1.0\n",
              "2      2007  ...      0.0\n",
              "3      2008  ...      1.0\n",
              "4      2009  ...      1.0\n",
              "\n",
              "[5 rows x 4 columns]"
            ]
          },
          "metadata": {
            "tags": []
          },
          "execution_count": 22
        }
      ]
    },
    {
      "cell_type": "code",
      "metadata": {
        "id": "_eW8blryaQim",
        "colab_type": "code",
        "colab": {
          "base_uri": "https://localhost:8080/",
          "height": 368
        },
        "outputId": "81512111-b8ff-40ff-bc4f-c0463b78370d"
      },
      "source": [
        "chart1 = alt.Chart(df.head()).mark_circle()\\\n",
        "            .encode(x='Average total business income', \\\n",
        "                    y='Average total business expenses', \\\n",
        "                    color='cluster:N', \\\n",
        "                    tooltip=['Postcode', 'cluster', \\\n",
        "                             'Average total business income', \\\n",
        "                             'Average total business expenses'])\\\n",
        "                   .interactive()\n",
        "chart2 = alt.Chart(centroids).mark_circle(size=100)\\\n",
        "            .encode(x='Average total business income', \\\n",
        "                    y='Average total business expenses', \\\n",
        "                    color=alt.value('black'), \\\n",
        "                    tooltip=['cluster', \\\n",
        "                             'Average total business income',\\\n",
        "                             'Average total business expenses'])\\\n",
        "                   .interactive()\n",
        "chart1 + chart2"
      ],
      "execution_count": 23,
      "outputs": [
        {
          "output_type": "execute_result",
          "data": {
            "text/plain": [
              "alt.LayerChart(...)"
            ],
            "text/html": [
              "\n",
              "<div id=\"altair-viz-3ecc5bfbb0ae456197baee90737b8253\"></div>\n",
              "<script type=\"text/javascript\">\n",
              "  (function(spec, embedOpt){\n",
              "    let outputDiv = document.currentScript.previousElementSibling;\n",
              "    if (outputDiv.id !== \"altair-viz-3ecc5bfbb0ae456197baee90737b8253\") {\n",
              "      outputDiv = document.getElementById(\"altair-viz-3ecc5bfbb0ae456197baee90737b8253\");\n",
              "    }\n",
              "    const paths = {\n",
              "      \"vega\": \"https://cdn.jsdelivr.net/npm//vega@5?noext\",\n",
              "      \"vega-lib\": \"https://cdn.jsdelivr.net/npm//vega-lib?noext\",\n",
              "      \"vega-lite\": \"https://cdn.jsdelivr.net/npm//vega-lite@4.8.1?noext\",\n",
              "      \"vega-embed\": \"https://cdn.jsdelivr.net/npm//vega-embed@6?noext\",\n",
              "    };\n",
              "\n",
              "    function loadScript(lib) {\n",
              "      return new Promise(function(resolve, reject) {\n",
              "        var s = document.createElement('script');\n",
              "        s.src = paths[lib];\n",
              "        s.async = true;\n",
              "        s.onload = () => resolve(paths[lib]);\n",
              "        s.onerror = () => reject(`Error loading script: ${paths[lib]}`);\n",
              "        document.getElementsByTagName(\"head\")[0].appendChild(s);\n",
              "      });\n",
              "    }\n",
              "\n",
              "    function showError(err) {\n",
              "      outputDiv.innerHTML = `<div class=\"error\" style=\"color:red;\">${err}</div>`;\n",
              "      throw err;\n",
              "    }\n",
              "\n",
              "    function displayChart(vegaEmbed) {\n",
              "      vegaEmbed(outputDiv, spec, embedOpt)\n",
              "        .catch(err => showError(`Javascript Error: ${err.message}<br>This usually means there's a typo in your chart specification. See the javascript console for the full traceback.`));\n",
              "    }\n",
              "\n",
              "    if(typeof define === \"function\" && define.amd) {\n",
              "      requirejs.config({paths});\n",
              "      require([\"vega-embed\"], displayChart, err => showError(`Error loading script: ${err.message}`));\n",
              "    } else if (typeof vegaEmbed === \"function\") {\n",
              "      displayChart(vegaEmbed);\n",
              "    } else {\n",
              "      loadScript(\"vega\")\n",
              "        .then(() => loadScript(\"vega-lite\"))\n",
              "        .then(() => loadScript(\"vega-embed\"))\n",
              "        .catch(showError)\n",
              "        .then(() => displayChart(vegaEmbed));\n",
              "    }\n",
              "  })({\"config\": {\"view\": {\"continuousWidth\": 400, \"continuousHeight\": 300}}, \"layer\": [{\"data\": {\"name\": \"data-7a3571a2e23b9bd4d5cce76f52fc9f75\"}, \"mark\": \"circle\", \"encoding\": {\"color\": {\"type\": \"nominal\", \"field\": \"cluster\"}, \"tooltip\": [{\"type\": \"quantitative\", \"field\": \"Postcode\"}, {\"type\": \"quantitative\", \"field\": \"cluster\"}, {\"type\": \"quantitative\", \"field\": \"Average total business income\"}, {\"type\": \"quantitative\", \"field\": \"Average total business expenses\"}], \"x\": {\"type\": \"quantitative\", \"field\": \"Average total business income\"}, \"y\": {\"type\": \"quantitative\", \"field\": \"Average total business expenses\"}}, \"selection\": {\"selector003\": {\"type\": \"interval\", \"bind\": \"scales\", \"encodings\": [\"x\", \"y\"]}}}, {\"data\": {\"name\": \"data-cf07bf0b764f70c0c261b0e26517107f\"}, \"mark\": {\"type\": \"circle\", \"size\": 100}, \"encoding\": {\"color\": {\"value\": \"black\"}, \"tooltip\": [{\"type\": \"quantitative\", \"field\": \"cluster\"}, {\"type\": \"quantitative\", \"field\": \"Average total business income\"}, {\"type\": \"quantitative\", \"field\": \"Average total business expenses\"}], \"x\": {\"type\": \"quantitative\", \"field\": \"Average total business income\"}, \"y\": {\"type\": \"quantitative\", \"field\": \"Average total business expenses\"}}, \"selection\": {\"selector004\": {\"type\": \"interval\", \"bind\": \"scales\", \"encodings\": [\"x\", \"y\"]}}}], \"$schema\": \"https://vega.github.io/schema/vega-lite/v4.8.1.json\", \"datasets\": {\"data-7a3571a2e23b9bd4d5cce76f52fc9f75\": [{\"Postcode\": 2000, \"Average total business income\": 210901, \"Average total business expenses\": 222191, \"cluster\": 1.0}, {\"Postcode\": 2006, \"Average total business income\": 69983, \"Average total business expenses\": 48971, \"cluster\": 1.0}, {\"Postcode\": 2007, \"Average total business income\": 575099, \"Average total business expenses\": 639499, \"cluster\": 0.0}, {\"Postcode\": 2008, \"Average total business income\": 53329, \"Average total business expenses\": 32173, \"cluster\": 1.0}, {\"Postcode\": 2009, \"Average total business income\": 237539, \"Average total business expenses\": 222993, \"cluster\": 1.0}], \"data-cf07bf0b764f70c0c261b0e26517107f\": [{\"Average total business income\": 288389, \"Average total business expenses\": 772246, \"cluster\": 0}, {\"Average total business income\": 256787, \"Average total business expenses\": 107473, \"cluster\": 1}, {\"Average total business income\": 234053, \"Average total business expenses\": 709570, \"cluster\": 2}, {\"Average total business income\": 146316, \"Average total business expenses\": 776646, \"cluster\": 3}]}}, {\"mode\": \"vega-lite\"});\n",
              "</script>"
            ]
          },
          "metadata": {
            "tags": []
          },
          "execution_count": 23
        }
      ]
    }
  ]
}